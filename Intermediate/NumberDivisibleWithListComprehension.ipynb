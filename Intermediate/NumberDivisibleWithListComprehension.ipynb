{
  "nbformat": 4,
  "nbformat_minor": 0,
  "metadata": {
    "colab": {
      "name": "NumberDivisibleWithListComprehension.ipynb",
      "provenance": [],
      "authorship_tag": "ABX9TyMRkfH53+ioHx0o2aRbShOu",
      "include_colab_link": true
    },
    "kernelspec": {
      "name": "python3",
      "display_name": "Python 3"
    }
  },
  "cells": [
    {
      "cell_type": "markdown",
      "metadata": {
        "id": "view-in-github",
        "colab_type": "text"
      },
      "source": [
        "<a href=\"https://colab.research.google.com/github/maprezdev/python-notebooks/blob/master/Intermediate/NumberDivisibleWithListComprehension.ipynb\" target=\"_parent\"><img src=\"https://colab.research.google.com/assets/colab-badge.svg\" alt=\"Open In Colab\"/></a>"
      ]
    },
    {
      "cell_type": "markdown",
      "metadata": {
        "id": "vYMlVOdFDojd",
        "colab_type": "text"
      },
      "source": [
        "Ask the user to input a single integer up to and including 100. Generate a list\n",
        "of numbers that are exactly divisible by that number up to and including 100\n",
        "using list comprehension."
      ]
    },
    {
      "cell_type": "code",
      "metadata": {
        "id": "Ki46ov6KDkhr",
        "colab_type": "code",
        "colab": {}
      },
      "source": [
        "print('Enter an integer up to 100 to generate a list of numbers', \n",
        "      'that are exactly divisible by this number.')\n",
        "\n",
        "number = int(input('Enter an integer up to 100: '))\n",
        "\n",
        "list_numbers = [num for num in range(1, 101) if num % number == 0]\n",
        "print(list_numbers)"
      ],
      "execution_count": 0,
      "outputs": []
    }
  ]
}