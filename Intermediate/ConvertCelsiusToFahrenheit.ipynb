{
  "nbformat": 4,
  "nbformat_minor": 0,
  "metadata": {
    "colab": {
      "name": "ConvertCelsiusToFahrenheit.ipynb",
      "provenance": [],
      "authorship_tag": "ABX9TyPLDR8QxNypqHAvJKZy/mww",
      "include_colab_link": true
    },
    "kernelspec": {
      "name": "python3",
      "display_name": "Python 3"
    }
  },
  "cells": [
    {
      "cell_type": "markdown",
      "metadata": {
        "id": "view-in-github",
        "colab_type": "text"
      },
      "source": [
        "<a href=\"https://colab.research.google.com/github/maprezdev/python-notebooks/blob/master/Intermediate/ConvertCelsiusToFahrenheit.ipynb\" target=\"_parent\"><img src=\"https://colab.research.google.com/assets/colab-badge.svg\" alt=\"Open In Colab\"/></a>"
      ]
    },
    {
      "cell_type": "markdown",
      "metadata": {
        "id": "vgcgO1vqcwJX",
        "colab_type": "text"
      },
      "source": [
        "The following snippet has a lambda function that takes a value in degrees Celsius (supplied by a user) and returns the converted degree to Fahrenheit. The formula to convert degrees Celsius to degrees Fahrenheit is: `ºF = (°C × 9/5) + 32`"
      ]
    },
    {
      "cell_type": "code",
      "metadata": {
        "id": "aJwTsbTXcAeN",
        "colab_type": "code",
        "colab": {}
      },
      "source": [
        "print('Type the temperature in degrees Celsius', \n",
        "      'to convert into degrees Fahrenheit.')\n",
        "celsius = int(input('Type a temperature: '))\n",
        "degree_conversion = lambda x: (x * 9 / 5) + 32\n",
        "result = degree_conversion(celsius)\n",
        "print(result)"
      ],
      "execution_count": 0,
      "outputs": []
    }
  ]
}