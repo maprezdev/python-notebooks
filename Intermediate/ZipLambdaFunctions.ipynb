{
  "nbformat": 4,
  "nbformat_minor": 0,
  "metadata": {
    "colab": {
      "name": "ZipLambdaFunctions.ipynb",
      "provenance": [],
      "authorship_tag": "ABX9TyP7uNR9uIrqMJiCq89Zknvg",
      "include_colab_link": true
    },
    "kernelspec": {
      "name": "python3",
      "display_name": "Python 3"
    }
  },
  "cells": [
    {
      "cell_type": "markdown",
      "metadata": {
        "id": "view-in-github",
        "colab_type": "text"
      },
      "source": [
        "<a href=\"https://colab.research.google.com/github/maprezdev/python-notebooks/blob/master/Intermediate/ZipLambdaFunctions.ipynb\" target=\"_parent\"><img src=\"https://colab.research.google.com/assets/colab-badge.svg\" alt=\"Open In Colab\"/></a>"
      ]
    },
    {
      "cell_type": "markdown",
      "metadata": {
        "id": "oH9rQQfiuRpG",
        "colab_type": "text"
      },
      "source": [
        "\n",
        "We calculates the euclidean distance between two persons on a two-dimensional map.\n",
        "\n",
        "We assign the lambda function to the identifier d to be reused later. The lambda function takes two sequence type arguments a and b, i.e., vectors in the n-dimensional space. Then it iterates over all dimension values ai and bi, calculates the squared distance between these dimension values, and sums these dimensional squared distances.\n",
        "\n",
        "To pair the n dimensional values a[i] and b[i] of the two vectors a and b, we use the handy zip function that does exactly that returning tuples of the zipped vectors.\n",
        "\n",
        "Finally, the square root is applied on the result:"
      ]
    },
    {
      "cell_type": "code",
      "metadata": {
        "id": "qnfG0c-PuQKm",
        "colab_type": "code",
        "colab": {}
      },
      "source": [
        "d = lambda a, b: (sum((ai - bi) ** 2 for ai, bi in zip(a, b))) ** 0.5\n",
        "\n",
        "Mike = (0, 6)\n",
        "Jennifer = (5, 1)\n",
        "print(int(d(Mike, Jennifer)))"
      ],
      "execution_count": 0,
      "outputs": []
    }
  ]
}