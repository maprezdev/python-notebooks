{
  "nbformat": 4,
  "nbformat_minor": 0,
  "metadata": {
    "colab": {
      "name": "PythonNegativeIndexing.ipynb",
      "provenance": [],
      "authorship_tag": "ABX9TyOOqev/tamBjN3tFrbd4tVu",
      "include_colab_link": true
    },
    "kernelspec": {
      "name": "python3",
      "display_name": "Python 3"
    }
  },
  "cells": [
    {
      "cell_type": "markdown",
      "metadata": {
        "id": "view-in-github",
        "colab_type": "text"
      },
      "source": [
        "<a href=\"https://colab.research.google.com/github/maprezdev/python-notebooks/blob/master/Basic/PythonNegativeIndexing.ipynb\" target=\"_parent\"><img src=\"https://colab.research.google.com/assets/colab-badge.svg\" alt=\"Open In Colab\"/></a>"
      ]
    },
    {
      "cell_type": "markdown",
      "metadata": {
        "id": "EFQvUMPAqDd1",
        "colab_type": "text"
      },
      "source": [
        "We can index single characters in strings using the bracket notation. The first character has index 0, the second index 1, and so on. Did you ever want to access the last element in a string? Counting the indices can be a real pain for long strings with more than 8-10 characters.\n",
        "\n",
        "But no worries, Python has a language feature for this.\n",
        "\n",
        "Instead of starting counting from the left, you can also start from the right. Access the last character with the negative index -1, the second last with the index -2, and so on.\n",
        "\n",
        "In summary, there are two ways to index sequence positions, from the left and from the right:"
      ]
    },
    {
      "cell_type": "code",
      "metadata": {
        "id": "pJ5uaEBlpv6s",
        "colab_type": "code",
        "colab": {}
      },
      "source": [
        "x = 'cool'\n",
        "print(x[-1] + x[-2] + x[-4] + x[-3])\n"
      ],
      "execution_count": 0,
      "outputs": []
    }
  ]
}