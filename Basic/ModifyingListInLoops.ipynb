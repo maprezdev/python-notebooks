{
  "nbformat": 4,
  "nbformat_minor": 0,
  "metadata": {
    "colab": {
      "name": "ModifyingListInLoops.ipynb",
      "provenance": [],
      "authorship_tag": "ABX9TyNeOqYhoVcEIBmu3AWJF8u4",
      "include_colab_link": true
    },
    "kernelspec": {
      "name": "python3",
      "display_name": "Python 3"
    }
  },
  "cells": [
    {
      "cell_type": "markdown",
      "metadata": {
        "id": "view-in-github",
        "colab_type": "text"
      },
      "source": [
        "<a href=\"https://colab.research.google.com/github/maprezdev/python-notebooks/blob/master/Basic/ModifyingListInLoops.ipynb\" target=\"_parent\"><img src=\"https://colab.research.google.com/assets/colab-badge.svg\" alt=\"Open In Colab\"/></a>"
      ]
    },
    {
      "cell_type": "markdown",
      "metadata": {
        "id": "iwZliTTBnuJe",
        "colab_type": "text"
      },
      "source": [
        "In this snippet's code, I copy the list first and loops over it. With this method, you can safely modify a list as this will not affect the original list in any way. So how to copy the sequence? The most convenient way to achieve this is by using the slice notation as shown in the snippet."
      ]
    },
    {
      "cell_type": "code",
      "metadata": {
        "id": "EQvL74BEmp90",
        "colab_type": "code",
        "colab": {
          "base_uri": "https://localhost:8080/",
          "height": 289
        },
        "outputId": "fcd4afb7-7292-437c-ede6-aba082ef1408"
      },
      "source": [
        "default_inventory = ['mouse', 'cd', 'tablet', 'phone', 'usb', 'monitor']\n",
        "inventories = default_inventory[:]\n",
        "print('Available inventory:')\n",
        "\n",
        "for inventory in inventories:\n",
        "    print(inventory)\n",
        "\n",
        "while 'notebook' not in inventories:\n",
        "    print('Oops! We did not find a Notebook in the inventory.')\n",
        "\n",
        "    add_notebook = input(\"Do you want to add a notebook? Answer Yes / No: \").lower()\n",
        "    answer = add_notebook\n",
        "\n",
        "    if answer == 'yes':\n",
        "        inventories.insert(0, 'notebook')\n",
        "        print(f\"The article '{inventories[0]}' has been added successfully\")\n",
        "        \n",
        "        print('\\nUpdated inventory list:')\n",
        "        print(inventories)\n",
        "\n",
        "    elif answer == 'no':\n",
        "        # If the user doesn't want to add the article, it is not good that the \n",
        "        # loop continues indefinitely, so we break this!\n",
        "        break\n",
        "\n",
        "print('\\nOriginal inventory list:')\n",
        "print(default_inventory)"
      ],
      "execution_count": 3,
      "outputs": [
        {
          "output_type": "stream",
          "text": [
            "Available inventory:\n",
            "mouse\n",
            "cd\n",
            "tablet\n",
            "phone\n",
            "usb\n",
            "monitor\n",
            "Oops! We did not find a Notebook in the inventory.\n",
            "Do you want to add a notebook? Answer Yes / No: yes\n",
            "The article 'notebook' has been added successfully\n",
            "\n",
            "Updated inventory list:\n",
            "['notebook', 'mouse', 'cd', 'tablet', 'phone', 'usb', 'monitor']\n",
            "\n",
            "Original inventory list:\n",
            "['mouse', 'cd', 'tablet', 'phone', 'usb', 'monitor']\n"
          ],
          "name": "stdout"
        }
      ]
    }
  ]
}