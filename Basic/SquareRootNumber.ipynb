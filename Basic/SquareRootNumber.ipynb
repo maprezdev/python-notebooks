{
  "nbformat": 4,
  "nbformat_minor": 0,
  "metadata": {
    "colab": {
      "name": "SquareRootNumber.ipynb",
      "provenance": [],
      "authorship_tag": "ABX9TyNu6yQ8L44Hd1M0o6Tgaz+4",
      "include_colab_link": true
    },
    "kernelspec": {
      "name": "python3",
      "display_name": "Python 3"
    }
  },
  "cells": [
    {
      "cell_type": "markdown",
      "metadata": {
        "id": "view-in-github",
        "colab_type": "text"
      },
      "source": [
        "<a href=\"https://colab.research.google.com/github/maprezdev/python-notebooks/blob/master/Basic/SquareRootNumber.ipynb\" target=\"_parent\"><img src=\"https://colab.research.google.com/assets/colab-badge.svg\" alt=\"Open In Colab\"/></a>"
      ]
    },
    {
      "cell_type": "markdown",
      "metadata": {
        "id": "Yn8pL_TL30nN",
        "colab_type": "text"
      },
      "source": [
        "In this snippet code our prompt the user to enter a given number\n",
        "and find out whether it is a perfect square."
      ]
    },
    {
      "cell_type": "code",
      "metadata": {
        "id": "Q2OhmAqR3VJn",
        "colab_type": "code",
        "colab": {}
      },
      "source": [
        "# Promt the user to enter a number to see if it's a perfect square\n",
        "number = input(\"Enter a number to see if it's a perfect square: \")\n",
        "\n",
        "# Ensure the user input is a positive integer.\n",
        "number = abs(int(number))\n",
        "\n",
        "# Choose an iterator variable\n",
        "i = -1\n",
        "\n",
        "# Initialize a Boolean to check for a perfect square.\n",
        "square = False\n",
        "\n",
        "# Initialize a while loop from -1 to the square root of the number.\n",
        "while i <= number ** (0.5):\n",
        "    i += 1\n",
        "    # Check the square root of the number.\n",
        "    if i * i == number:\n",
        "        square = True\n",
        "        break\n",
        "\n",
        "# If the number is square, print out the result\n",
        "if square:\n",
        "    print(f'The square root of {number} is {i}.')\n",
        "else:  # Otherwise...\n",
        "    print(f'\\tSorry, the number {number}, is not a perfect square.')"
      ],
      "execution_count": 0,
      "outputs": []
    }
  ]
}