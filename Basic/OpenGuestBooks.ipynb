{
  "nbformat": 4,
  "nbformat_minor": 0,
  "metadata": {
    "colab": {
      "name": "OpenGuestBooks.ipynb",
      "provenance": [],
      "authorship_tag": "ABX9TyPW1bx5ElE9WaSnZ1/r4YjB",
      "include_colab_link": true
    },
    "kernelspec": {
      "name": "python3",
      "display_name": "Python 3"
    }
  },
  "cells": [
    {
      "cell_type": "markdown",
      "metadata": {
        "id": "view-in-github",
        "colab_type": "text"
      },
      "source": [
        "<a href=\"https://colab.research.google.com/github/maprezdev/python-notebooks/blob/master/Basic/OpenGuestBooks.ipynb\" target=\"_parent\"><img src=\"https://colab.research.google.com/assets/colab-badge.svg\" alt=\"Open In Colab\"/></a>"
      ]
    },
    {
      "cell_type": "markdown",
      "metadata": {
        "id": "nri2CGK-2HJj",
        "colab_type": "text"
      },
      "source": [
        "In the following snippet I am using the Python built-in open() function along with a While loop to create a simple guestbook. \n",
        "\n",
        "First we open the book in read mode and check if it's empty, and if it's empty we open the file in write mode to add only the header, then we iterate on the guestbook, greet visitors and ask for their name, then open the Guestbook in update mode to add the guest name. \n",
        "\n",
        "We end the While loop storing the boolean value \"True\" inside the user variable\n",
        "\n",
        "Finally we open the book to read all its content."
      ]
    },
    {
      "cell_type": "code",
      "metadata": {
        "id": "cP_K_h-KvnYj",
        "colab_type": "code",
        "colab": {}
      },
      "source": [
        "user = False\n",
        "file = \"folder/guest-book.text\"\n",
        "\n",
        "with open(file) as file_obj:\n",
        "    content = file_obj.read()\n",
        "    if content == \"\":\n",
        "        with open(file, \"w\") as file_obj:\n",
        "            file_obj.write(\"Our guest book!\\n\")\n",
        "\n",
        "while user is not True:\n",
        "    user = input(\"Hello, what's your name? \").title()\n",
        "    print(f\"Thanks {user} for registering your visit in our guest book!\")\n",
        "    with open(file, \"a\") as file_obj:\n",
        "        file_obj.write(user + \"\\n\")\n",
        "    user = True\n",
        "\n",
        "with open(file) as file_obj:\n",
        "    data = file_obj.read()\n",
        "    print(data.rstrip())"
      ],
      "execution_count": 0,
      "outputs": []
    }
  ]
}