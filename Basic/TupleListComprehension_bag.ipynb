{
  "nbformat": 4,
  "nbformat_minor": 0,
  "metadata": {
    "colab": {
      "name": "TupleListComprehension_bag.ipynb",
      "provenance": [],
      "authorship_tag": "ABX9TyO2mTCueJxb1BKiHNGM6lTs",
      "include_colab_link": true
    },
    "kernelspec": {
      "name": "python3",
      "display_name": "Python 3"
    }
  },
  "cells": [
    {
      "cell_type": "markdown",
      "metadata": {
        "id": "view-in-github",
        "colab_type": "text"
      },
      "source": [
        "<a href=\"https://colab.research.google.com/github/maprezdev/python-notebooks/blob/master/Basic/TupleListComprehension_bag.ipynb\" target=\"_parent\"><img src=\"https://colab.research.google.com/assets/colab-badge.svg\" alt=\"Open In Colab\"/></a>"
      ]
    },
    {
      "cell_type": "markdown",
      "metadata": {
        "id": "5GmxSYiYrfA2",
        "colab_type": "text"
      },
      "source": [
        "#### Example of a tuple in a shopping cart\n",
        "\n",
        "With a list comprehension we iterate over all the tuples from the list and only use price and amount from each tuple. The two values are multiplied and stored in the new list. After doing this for each tuple we have a list of total values for each item. Using the `sum()` function we sum up all those values. So the code computes `3*2.3 + 2*2.7 + 12*1.2 + 10*2.0 + 5*0.6 + 4*1.3 + 5*1.8 + 3*2.5 = 71.4` which is the total price for all the items in the bag"
      ]
    },
    {
      "cell_type": "code",
      "metadata": {
        "id": "SWV4_ckPrcLh",
        "colab_type": "code",
        "colab": {}
      },
      "source": [
        "bag = [\n",
        "    # (item, price, amount)\n",
        "    ('blueberry', 2.3, 3),\n",
        "    ('carrot', 2.7, 2),\n",
        "    ('eggs', 1.2, 12),\n",
        "    ('grape', 2.0, 10),\n",
        "    ('lemon', 0.6, 5),\n",
        "    ('mango', 1.3, 4),\n",
        "    ('orange', 1.8, 5),\n",
        "    ('pear', 2.5, 3)\n",
        "]\n",
        "\n",
        "total_price = sum([price * amount for item, price, amount in bag])\n",
        "print(total_price)"
      ],
      "execution_count": 0,
      "outputs": []
    }
  ]
}