{
  "nbformat": 4,
  "nbformat_minor": 0,
  "metadata": {
    "colab": {
      "name": "SumUpFirstInteger.ipynb",
      "provenance": [],
      "authorship_tag": "ABX9TyPaf/UtlxYDcHo7/RM4oe/1",
      "include_colab_link": true
    },
    "kernelspec": {
      "name": "python3",
      "display_name": "Python 3"
    }
  },
  "cells": [
    {
      "cell_type": "markdown",
      "metadata": {
        "id": "view-in-github",
        "colab_type": "text"
      },
      "source": [
        "<a href=\"https://colab.research.google.com/github/maprezdev/python-notebooks/blob/master/Basic/SumUpFirstInteger.ipynb\" target=\"_parent\"><img src=\"https://colab.research.google.com/assets/colab-badge.svg\" alt=\"Open In Colab\"/></a>"
      ]
    },
    {
      "cell_type": "markdown",
      "metadata": {
        "id": "gU3mbdQDsBjA",
        "colab_type": "text"
      },
      "source": [
        "In this code snippet, we create a sum_up_num() function that sums up the first n integers. For example, if you pass the number 3, it should return 1 + 2 + 3 = 6."
      ]
    },
    {
      "cell_type": "code",
      "metadata": {
        "id": "RP8uOzlBr7a4",
        "colab_type": "code",
        "colab": {}
      },
      "source": [
        "def sum_up_num(n):\n",
        "    \"\"\"\n",
        "    This function performs the task of sums up to the first 'n' integer.\n",
        "    We initialize the return variable to 0, then implement a for loop \n",
        "    and return the result value. \n",
        "    \"\"\"  \n",
        "    result = 0\n",
        "    for num in range(n):\n",
        "        result += num + 1\n",
        "    return result\n",
        "\n",
        "\n",
        "print(\"\\nGive me a number that I can sum:\")\n",
        "my_number = input()\n",
        "my_number = abs(int(my_number))\n",
        "\n",
        "# We call the function passing as argument the number given by the user.\n",
        "sum_up_num(my_number)"
      ],
      "execution_count": 0,
      "outputs": []
    }
  ]
}