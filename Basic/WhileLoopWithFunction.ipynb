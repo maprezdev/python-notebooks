{
  "nbformat": 4,
  "nbformat_minor": 0,
  "metadata": {
    "colab": {
      "name": "WhileLoopWithFunction.ipynb",
      "provenance": [],
      "authorship_tag": "ABX9TyPFD974Vxdb96+f/AIXwGgq",
      "include_colab_link": true
    },
    "kernelspec": {
      "name": "python3",
      "display_name": "Python 3"
    }
  },
  "cells": [
    {
      "cell_type": "markdown",
      "metadata": {
        "id": "view-in-github",
        "colab_type": "text"
      },
      "source": [
        "<a href=\"https://colab.research.google.com/github/maprezdev/python-notebooks/blob/master/Basic/WhileLoopWithFunction.ipynb\" target=\"_parent\"><img src=\"https://colab.research.google.com/assets/colab-badge.svg\" alt=\"Open In Colab\"/></a>"
      ]
    },
    {
      "cell_type": "markdown",
      "metadata": {
        "id": "XTNzWjSltOXJ",
        "colab_type": "text"
      },
      "source": [
        "#### While Loop: Call to function\n",
        "\n",
        "Have you ever wondered how many times a function in a loop condition gets called? Because that's just what this snippet is asking.\n",
        "\n",
        "The answer is length of the list times plus one when the condition becomes False. Since we have five elements in the list, the function in the loop condition is called six times\n",
        "\n",
        "With the end='' parameter you can set the symbol to be printed after the text. By default it is a line break. If you set end to empty string all the outputs appear in the same row. The length of the list is five, `_len()` gets called six times and each time we print the list's length in the same row on the console. Thus the output is 555555."
      ]
    },
    {
      "cell_type": "code",
      "metadata": {
        "id": "TsjDaC_ntCl4",
        "colab_type": "code",
        "colab": {}
      },
      "source": [
        "def len_(x):\n",
        "    length = len(x)\n",
        "    # print everything in same row\n",
        "    print(length, end='')\n",
        "    return length\n",
        "\n",
        "\n",
        "items = [5, 'while loop', {}, [14, 'python'], 3.18]\n",
        "i = 0\n",
        "\n",
        "while i < len_(items):\n",
        "    i += 1"
      ],
      "execution_count": 0,
      "outputs": []
    }
  ]
}